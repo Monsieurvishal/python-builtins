{
 "cells": [
  {
   "cell_type": "markdown",
   "metadata": {},
   "source": [
    "\n",
    "Built-in Functions in python are:\n",
    "\n",
    "abs()\n",
    "\n",
    "delattr()\n",
    "\n",
    "hash()\n",
    "\n",
    "memoryview()\n",
    "\n",
    "set()\n",
    "\n",
    "all()\n",
    "\n",
    "dict()\n",
    "\n",
    "help()\n",
    "\n",
    "min()\n",
    "\n",
    "setattr()\n",
    "\n",
    "any()\n",
    "\n",
    "dir()\n",
    "\n",
    "hex()\n",
    "\n",
    "next()\n",
    "\n",
    "slice()\n",
    "\n",
    "ascii()\n",
    "\n",
    "divmod()\n",
    "\n",
    "id()\n",
    "\n",
    "object()\n",
    "\n",
    "sorted()\n",
    "\n",
    "bin()\n",
    "\n",
    "enumerate()\n",
    "\n",
    "input()\n",
    "\n",
    "oct()\n",
    "\n",
    "staticmethod()\n",
    "\n",
    "bool()\n",
    "\n",
    "eval()\n",
    "\n",
    "int()\n",
    "\n",
    "open()\n",
    "\n",
    "str()\n",
    "\n",
    "breakpoint()\n",
    "\n",
    "exec()\n",
    "\n",
    "isinstance()\n",
    "\n",
    "ord()\n",
    "\n",
    "sum()\n",
    "\n",
    "bytearray()\n",
    "\n",
    "filter()\n",
    "\n",
    "issubclass()\n",
    "\n",
    "pow()\n",
    "\n",
    "super()\n",
    "\n",
    "bytes()\n",
    "\n",
    "float()\n",
    "\n",
    "iter()\n",
    "\n",
    "print()\n",
    "\n",
    "tuple()\n",
    "\n",
    "callable()\n",
    "\n",
    "format()\n",
    "\n",
    "len()\n",
    "\n",
    "property()\n",
    "\n",
    "type()\n",
    "\n",
    "chr()\n",
    "\n",
    "frozenset()\n",
    "\n",
    "list()\n",
    "\n",
    "range()\n",
    "\n",
    "vars()\n",
    "\n",
    "classmethod()\n",
    "\n",
    "getattr()\n",
    "\n",
    "locals()\n",
    "\n",
    "repr()\n",
    "\n",
    "zip()\n",
    "\n",
    "compile()\n",
    "\n",
    "globals()\n",
    "\n",
    "map()\n",
    "\n",
    "reversed()\n",
    "\n",
    "__import__()\n",
    "\n",
    "complex()\n",
    "\n",
    "hasattr()\n",
    "\n",
    "max()\n",
    "\n",
    "round()"
   ]
  },
  {
   "cell_type": "markdown",
   "metadata": {},
   "source": [
    "A function which is pre-defined by the library of the language,is called inbuit function.eg. print() function in C or gc() method in java etc. You should always go through  the documentation of the language to know more about the builtin functions."
   ]
  },
  {
   "cell_type": "code",
   "execution_count": 1,
   "metadata": {},
   "outputs": [
    {
     "name": "stdout",
     "output_type": "stream",
     "text": [
      "6\n",
      "6\n",
      "[1, 2, 4]\n"
     ]
    }
   ],
   "source": [
    "\"\"\" abs() in python \"\"\"\n",
    "\n",
    "print(abs(6))\n",
    "\n",
    "print(abs(-6))\n",
    "#return positive no regardless function\n",
    "my_list=[1,-2,-4]\n",
    "\n",
    "my_list=[abs(i) for i in my_list ]\n",
    "\n",
    "print(my_list)"
   ]
  },
  {
   "cell_type": "code",
   "execution_count": 2,
   "metadata": {},
   "outputs": [
    {
     "name": "stdout",
     "output_type": "stream",
     "text": [
      "True\n",
      "False\n",
      "True\n",
      "True\n"
     ]
    }
   ],
   "source": [
    "\"\"\" \n",
    "all() its basically for loop in its function returns true if it has every  iterable true\n",
    "any() returns true if any one of the iterable is true\n",
    "\n",
    "\"\"\"\n",
    "\n",
    "print(all('Vishal'))\n",
    "\n",
    "#print(all(12)) int is not iterable \n",
    "\n",
    "print(all([False, 1,2]))\n",
    "\n",
    "print(all([4, 1,2]))\n",
    "\n",
    "print(any([False, 1,2]))\n"
   ]
  },
  {
   "cell_type": "code",
   "execution_count": 3,
   "metadata": {},
   "outputs": [
    {
     "name": "stdout",
     "output_type": "stream",
     "text": [
      "1\n",
      "'\\u041f\\u0440\\u0438\\u0432\\u0435\\u0442 , hello'\n"
     ]
    }
   ],
   "source": [
    "\"\"\" ascii \"\"\"\n",
    "\n",
    "print(ascii(1))\n",
    "\n",
    "print(ascii('Привет , hello')) # prints Russian encoded version u stands for unicode\n",
    "\n"
   ]
  },
  {
   "cell_type": "code",
   "execution_count": 4,
   "metadata": {},
   "outputs": [
    {
     "name": "stdout",
     "output_type": "stream",
     "text": [
      "0b10\n",
      "0xa\n",
      "<class 'str'>\n",
      "0b1010\n"
     ]
    }
   ],
   "source": [
    "\"\"\" binary bin() function \"\"\"\n",
    "\n",
    "print(bin(2)) #accepts only positive integers (Hex) works\n",
    "\n",
    "print(hex(10))\n",
    "\n",
    "print(type(hex(10)))\n",
    "# print(bin((hex(10))))  hex returns the string \n",
    "\n",
    "print(bin(0xa))\n"
   ]
  },
  {
   "cell_type": "code",
   "execution_count": 5,
   "metadata": {},
   "outputs": [
    {
     "name": "stdout",
     "output_type": "stream",
     "text": [
      "True\n",
      "False\n",
      "True\n",
      "True\n",
      "True\n"
     ]
    }
   ],
   "source": [
    "\"\"\" bool() boolean,  anything which has lenhgth is returns true\"\"\"\n",
    "\n",
    "print(bool(1))\n",
    "\n",
    "print(bool(0))\n",
    "\n",
    "print(bool(123))\n",
    "\n",
    "print(bool(\"vishal\"))\n",
    "\n",
    "print(bool([False ,1,3])) # list has length so returns true\n"
   ]
  },
  {
   "cell_type": "code",
   "execution_count": 6,
   "metadata": {},
   "outputs": [
    {
     "name": "stdout",
     "output_type": "stream",
     "text": [
      "0\n",
      "1\n",
      "2\n",
      "3\n",
      "4\n",
      "5\n",
      "> <ipython-input-6-410f08b79642>(4)<module>()\n",
      "-> for i in range (12):\n",
      "(Pdb) c\n",
      "6\n",
      "7\n",
      "8\n",
      "9\n",
      "10\n",
      "11\n"
     ]
    }
   ],
   "source": [
    "\"\"\" breakpoint() to debug \"\"\"\n",
    "\n",
    "\n",
    "for i in range (12):\n",
    "    \n",
    "    \n",
    "    print(i)\n",
    "    \n",
    "    if i==5:\n",
    "\n",
    "        breakpoint()"
   ]
  },
  {
   "cell_type": "code",
   "execution_count": 7,
   "metadata": {},
   "outputs": [
    {
     "name": "stdout",
     "output_type": "stream",
     "text": [
      "b'\\xff\\xfev\\x00i\\x00s\\x00h\\x00a\\x00l\\x00'\n",
      "b'\\x00\\x00\\x00\\x00\\x00\\x00\\x00\\x00\\x00\\x00\\x00\\x00\\x00'\n",
      "bytearray(b'\\x01\\x02\\x03\\x04\\x03')\n"
     ]
    }
   ],
   "source": [
    "\"\"\" byte and bytearray \"\"\"\n",
    "\n",
    "print(bytes(\"vishal\",\"UTF-16\")) #utf 8 and utf 16 are encoding schemes\n",
    "\n",
    "print(bytes(13))\n",
    "\n",
    "x=bytearray([1,2,3,4])\n",
    "\n",
    "x.append(3)\n",
    "\n",
    "print(x)"
   ]
  },
  {
   "cell_type": "code",
   "execution_count": 8,
   "metadata": {},
   "outputs": [
    {
     "name": "stdout",
     "output_type": "stream",
     "text": [
      "False\n",
      "True\n",
      "<class 'str'>\n",
      "True\n"
     ]
    }
   ],
   "source": [
    "\"\"\" Callable function \"\"\"\n",
    "\n",
    "print(callable(\"vishal\"))\n",
    "\n",
    "print(callable(print))\n",
    "\n",
    "print(type(\"vishal\"))\n",
    "\n",
    "print(callable(type('vishal'))) #clases are callable\n",
    "\n"
   ]
  },
  {
   "cell_type": "code",
   "execution_count": 9,
   "metadata": {},
   "outputs": [
    {
     "name": "stdout",
     "output_type": "stream",
     "text": [
      "d\n"
     ]
    }
   ],
   "source": [
    "\"\"\"chr character \"\"\"\n",
    "\n",
    "print(chr(100))\n",
    "\n"
   ]
  },
  {
   "cell_type": "code",
   "execution_count": 10,
   "metadata": {},
   "outputs": [
    {
     "name": "stdout",
     "output_type": "stream",
     "text": [
      "100\n"
     ]
    }
   ],
   "source": [
    "\"\"\"ord opposite of chr\"\"\"\n",
    "\n",
    "print(ord('d'))"
   ]
  },
  {
   "cell_type": "code",
   "execution_count": 11,
   "metadata": {},
   "outputs": [
    {
     "name": "stdout",
     "output_type": "stream",
     "text": [
      "Adam's age is: 19\n",
      "<class '__main__.Person'>\n",
      "John's age is: 35\n"
     ]
    }
   ],
   "source": [
    " \"\"\"\n",
    " \n",
    " A class method is a method that is bound to a class rather than its object.\n",
    " It doesn't require creation of a class instance\n",
    " \n",
    " Below code is t\n",
    " \n",
    " \"\"\"\n",
    "\n",
    "\n",
    "from datetime import date\n",
    "\n",
    "\n",
    "\n",
    "class Person:\n",
    "    def __init__(self, name, age):\n",
    "        self.name = name\n",
    "        self.age = age\n",
    "\n",
    "        \n",
    "    @classmethod\n",
    "    \n",
    "    def fromBirthYear(cls, name, birthYear):\n",
    "        return cls(name, date.today().year - birthYear)\n",
    "\n",
    "    \n",
    "    def display(self):\n",
    "        print(self.name + \"'s age is: \" + str(self.age))\n",
    "\n",
    "        \n",
    "person = Person('Adam', 19)\n",
    "\n",
    "person.display()\n",
    "\n",
    "person1 = Person.fromBirthYear('John',  1985) # Use the class method without ma\n",
    "print(type(person1))\n",
    "person1.display()\n"
   ]
  },
  {
   "cell_type": "code",
   "execution_count": 12,
   "metadata": {},
   "outputs": [
    {
     "name": "stdout",
     "output_type": "stream",
     "text": [
      "(1+0j)\n",
      "(1+2j)\n",
      "<class 'complex'>\n"
     ]
    }
   ],
   "source": [
    "\"\"\" complex \"\"\"\n",
    "\n",
    "x=complex(1)\n",
    "\n",
    "print(x)\n",
    "\n",
    "x2=complex(1,2)\n",
    "\n",
    "print(x2)\n",
    "\n",
    "print(type(x2))"
   ]
  },
  {
   "cell_type": "code",
   "execution_count": 13,
   "metadata": {},
   "outputs": [
    {
     "data": {
      "text/plain": [
       "'vishal'"
      ]
     },
     "execution_count": 13,
     "metadata": {},
     "output_type": "execute_result"
    }
   ],
   "source": [
    "class student:\n",
    "    name='vishal'\n",
    "    usn=200001\n",
    "    \n",
    "delattr(student,'usn')\n",
    "\n",
    "x=student()\n",
    "x.name\n",
    "#x.usn this will give error because it has already been deleted "
   ]
  },
  {
   "cell_type": "code",
   "execution_count": 14,
   "metadata": {},
   "outputs": [
    {
     "name": "stdout",
     "output_type": "stream",
     "text": [
      "{'a': '1', 'b': '2'}\n",
      "{'a': '1', 'b': '2', 'c': '3'}\n"
     ]
    }
   ],
   "source": [
    "x=dict(a='1',b='2')\n",
    "\n",
    "print(x)\n",
    "\n",
    "print(dict(x,c='3'))"
   ]
  },
  {
   "cell_type": "code",
   "execution_count": 15,
   "metadata": {},
   "outputs": [
    {
     "name": "stdout",
     "output_type": "stream",
     "text": [
      "['__add__', '__class__', '__contains__', '__delattr__', '__delitem__', '__dir__', '__doc__', '__eq__', '__format__', '__ge__', '__getattribute__', '__getitem__', '__gt__', '__hash__', '__iadd__', '__imul__', '__init__', '__init_subclass__', '__iter__', '__le__', '__len__', '__lt__', '__mul__', '__ne__', '__new__', '__reduce__', '__reduce_ex__', '__repr__', '__reversed__', '__rmul__', '__setattr__', '__setitem__', '__sizeof__', '__str__', '__subclasshook__', 'append', 'clear', 'copy', 'count', 'extend', 'index', 'insert', 'pop', 'remove', 'reverse', 'sort']\n",
      "['JSONDecodeError', 'JSONDecoder', 'JSONEncoder', '__all__', '__author__', '__builtins__', '__cached__', '__doc__', '__file__', '__loader__', '__name__', '__package__', '__path__', '__spec__', '__version__', '_default_decoder', '_default_encoder', 'codecs', 'decoder', 'detect_encoding', 'dump', 'dumps', 'encoder', 'load', 'loads', 'scanner']\n"
     ]
    }
   ],
   "source": [
    "import json\n",
    "print(dir(list))\n",
    "print(dir(json))"
   ]
  },
  {
   "cell_type": "code",
   "execution_count": 16,
   "metadata": {},
   "outputs": [
    {
     "name": "stdout",
     "output_type": "stream",
     "text": [
      "2 2\n"
     ]
    }
   ],
   "source": [
    "a,b=divmod(10,4) #returns quotient and remainder\n",
    "print(a,b)"
   ]
  },
  {
   "cell_type": "code",
   "execution_count": 17,
   "metadata": {},
   "outputs": [
    {
     "data": {
      "text/plain": [
       "5"
      ]
     },
     "execution_count": 17,
     "metadata": {},
     "output_type": "execute_result"
    }
   ],
   "source": [
    "10//2"
   ]
  },
  {
   "cell_type": "code",
   "execution_count": 18,
   "metadata": {},
   "outputs": [
    {
     "name": "stdout",
     "output_type": "stream",
     "text": [
      "<enumerate object at 0x000001E0A99627E0>\n",
      "[(0, 'usssr'), (1, 'usa'), (2, 'india')]\n",
      "{0: 'usssr', 1: 'usa', 2: 'india'}\n"
     ]
    }
   ],
   "source": [
    "\"\"\" enumerate \"\"\"\n",
    "\n",
    "countries=['usssr','usa','india']\n",
    "print(enumerate(countries))\n",
    "\n",
    "print(list(enumerate(countries)))\n",
    "\n",
    "print(dict(enumerate(countries)))\n"
   ]
  },
  {
   "cell_type": "code",
   "execution_count": 19,
   "metadata": {},
   "outputs": [
    {
     "name": "stdout",
     "output_type": "stream",
     "text": [
      "2\n"
     ]
    }
   ],
   "source": [
    "\" eval \"\n",
    "\n",
    "x=1\n",
    "\n",
    "print(eval('x+1')) # x+1 is string\n"
   ]
  },
  {
   "cell_type": "code",
   "execution_count": 20,
   "metadata": {},
   "outputs": [
    {
     "name": "stdout",
     "output_type": "stream",
     "text": [
      "[1, 2, 3, 45]\n",
      "The filtered vowels are:\n",
      "a\n",
      "e\n",
      "i\n",
      "o\n"
     ]
    }
   ],
   "source": [
    "\"\"\"Filter in python\"\"\"\n",
    "\n",
    "age=[1,2,3,45,0]\n",
    "\n",
    "print(list(filter(None,age))) # 0 in the list will not be printed  since it is filtered out\n",
    "\n",
    "\"\"\"Below code from programiz.com \"\"\"\n",
    "\n",
    "letters = ['a', 'b', 'd', 'e', 'i', 'j', 'o']\n",
    "\n",
    "# function that filters vowels\n",
    "\n",
    "def filterVowels(letter):\n",
    "    vowels = ['a', 'e', 'i', 'o', 'u']\n",
    "\n",
    "    if(letter in vowels):\n",
    "        return True\n",
    "    else:\n",
    "        return False\n",
    "\n",
    "filteredVowels = filter(filterVowels, letters)\n",
    "\n",
    "print('The filtered vowels are:')\n",
    "for vowel in filteredVowels:\n",
    "    print(vowel)"
   ]
  },
  {
   "cell_type": "code",
   "execution_count": 21,
   "metadata": {},
   "outputs": [
    {
     "name": "stdout",
     "output_type": "stream",
     "text": [
      "I am vishal , 19 years old\n"
     ]
    }
   ],
   "source": [
    "\"\"\"format\"\"\"\n",
    "print(\"I am vishal , {} years old\".format(19))"
   ]
  },
  {
   "cell_type": "code",
   "execution_count": 22,
   "metadata": {},
   "outputs": [
    {
     "name": "stdout",
     "output_type": "stream",
     "text": [
      "{1, 2, 3, 34}\n",
      "frozenset({1, 2, 3, 34})\n"
     ]
    }
   ],
   "source": [
    "\"\"\"set and frozen set\"\"\"\n",
    "\n",
    "\"\"\"Its like list and tuple frozen set is immutable\"\"\"\n",
    "print(set([1,2,2,3,34,2]))\n",
    "\n",
    "x=frozenset([1,2,2,3,34,2])\n",
    "\n",
    "print(x)"
   ]
  },
  {
   "cell_type": "code",
   "execution_count": 23,
   "metadata": {},
   "outputs": [
    {
     "name": "stdout",
     "output_type": "stream",
     "text": [
      "19\n",
      "doesnt exist\n"
     ]
    }
   ],
   "source": [
    "\"\"\"getattr  \"\"\"\n",
    "\n",
    "class Person:\n",
    "    def __init__(self, name, age):\n",
    "        self.name = name\n",
    "        self.age = age\n",
    "        \n",
    "person = Person('Adam', 19)\n",
    "\n",
    "print(getattr(person,'age'))\n",
    "\n",
    "print(getattr(person,'vishal','doesnt exist'))\n"
   ]
  },
  {
   "cell_type": "code",
   "execution_count": 24,
   "metadata": {},
   "outputs": [
    {
     "name": "stdout",
     "output_type": "stream",
     "text": [
      "True\n"
     ]
    }
   ],
   "source": [
    "class Person:\n",
    "    def __init__(self, name, age):\n",
    "        self.name = name\n",
    "        self.age = age\n",
    "        \n",
    "person = Person('Adam', 19)\n",
    "\n",
    "print(hasattr(person,'age'))"
   ]
  },
  {
   "cell_type": "code",
   "execution_count": 25,
   "metadata": {},
   "outputs": [
    {
     "name": "stdout",
     "output_type": "stream",
     "text": [
      "6815637798431611611\n"
     ]
    }
   ],
   "source": [
    "\"\"\" hash its only for immutables\"\"\"\n",
    "\n",
    "print(hash('1'))\n"
   ]
  },
  {
   "cell_type": "code",
   "execution_count": 26,
   "metadata": {},
   "outputs": [
    {
     "data": {
      "text/plain": [
       "'reading documenting'"
      ]
     },
     "execution_count": 26,
     "metadata": {},
     "output_type": "execute_result"
    }
   ],
   "source": [
    "\"reading documenting\"\n",
    "#help('json')"
   ]
  },
  {
   "cell_type": "code",
   "execution_count": 27,
   "metadata": {},
   "outputs": [
    {
     "name": "stdout",
     "output_type": "stream",
     "text": [
      "73\n"
     ]
    }
   ],
   "source": [
    "\"\"\"sum\"\"\"\n",
    "a=[1,23,4,45]\n",
    "\n",
    "print(sum(a))\n"
   ]
  },
  {
   "cell_type": "code",
   "execution_count": 28,
   "metadata": {},
   "outputs": [
    {
     "name": "stdout",
     "output_type": "stream",
     "text": [
      "140714502886336\n",
      "True\n",
      "False\n",
      "False\n"
     ]
    },
    {
     "data": {
      "text/plain": [
       "'answer:https://www.quora.com/Why-do-I-get-different-ids-for-two-variables-that-refer-to-the-same-tuple-if-tuples-are-immutable-in-python#:~:text=As%20you%20correctly%20understood%2C%20in%20Python%2C%20tuples%20are%20immutable.,-t1%20%3D%20(1%2C&text=But%20the%20following%20is%20perfectly%20valid.,-t1%20%3D%20(1%2C&text=print%20id(t1)-,Because%2C%20when%20we%20extend%20the%20tuple%20by%20adding%204%2C%20a,would%20print%20two%20different%20numbers.'"
      ]
     },
     "execution_count": 28,
     "metadata": {},
     "output_type": "execute_result"
    }
   ],
   "source": [
    "\"\"\"id in python \"\"\"\n",
    "\n",
    "x = 5\n",
    "\n",
    "y = id(x)\n",
    "\n",
    "print(y)\n",
    "\n",
    "a=10\n",
    "b=10\n",
    "\n",
    "print(id(a)==id(b)) #both a and b points to the same memory location \n",
    "\n",
    "a=[1,2,3]\n",
    "b=[1,2,3]\n",
    "\n",
    "print(id(a)==id(b)) #lists are mutable so it has different id\n",
    "\n",
    "x=(1,2,3)\n",
    "y=(1,2,3)\n",
    "\n",
    "print(id(x)==id(y))# tuples are also imutable but why different id ?  \n",
    "\n",
    "\"\"\"answer:https://www.quora.com/Why-do-I-get-different-ids-for-two-variables-that-refer-to-the-same-tuple-if-tuples-are-immutable-in-python#:~:text=As%20you%20correctly%20understood%2C%20in%20Python%2C%20tuples%20are%20immutable.,-t1%20%3D%20(1%2C&text=But%20the%20following%20is%20perfectly%20valid.,-t1%20%3D%20(1%2C&text=print%20id(t1)-,Because%2C%20when%20we%20extend%20the%20tuple%20by%20adding%204%2C%20a,would%20print%20two%20different%20numbers.\"\"\""
   ]
  },
  {
   "cell_type": "code",
   "execution_count": 29,
   "metadata": {},
   "outputs": [
    {
     "name": "stdout",
     "output_type": "stream",
     "text": [
      "True\n",
      "False\n"
     ]
    }
   ],
   "source": [
    "\"\"\"isinstance\"\"\"\n",
    "\n",
    "print(isinstance(5,int)) #5 is an instance of int class\n",
    "\n",
    "print(isinstance(5,str))\n",
    "\n"
   ]
  },
  {
   "cell_type": "code",
   "execution_count": 30,
   "metadata": {},
   "outputs": [
    {
     "name": "stdout",
     "output_type": "stream",
     "text": [
      "True\n",
      "False\n"
     ]
    }
   ],
   "source": [
    "\"\"\"subclass is inheritance concept of c++\"\"\"\n",
    "class vishal():\n",
    "    pass\n",
    "class child():\n",
    "    pass\n",
    "class student(child):\n",
    "    pass\n",
    "\n",
    "print(issubclass(student,child))\n",
    "\n",
    "print(issubclass(student,vishal))\n"
   ]
  },
  {
   "cell_type": "code",
   "execution_count": 31,
   "metadata": {},
   "outputs": [
    {
     "name": "stdout",
     "output_type": "stream",
     "text": [
      "1\n",
      "2\n",
      "3\n",
      "4\n",
      "Print iteration using function\n",
      "14\n",
      "86\n",
      "54\n",
      "61\n",
      "68\n",
      "49\n",
      "79\n",
      "85\n",
      "24\n",
      "57\n",
      "71\n",
      "36\n",
      "27\n",
      "42\n",
      "31\n",
      "50\n",
      "52\n",
      "14\n",
      "4\n",
      "39\n",
      "42\n",
      "2\n",
      "70\n",
      "21\n",
      "2\n",
      "28\n",
      "27\n",
      "52\n",
      "77\n",
      "40\n",
      "55\n",
      "10\n",
      "25\n",
      "30\n",
      "58\n",
      "6\n",
      "17\n",
      "27\n",
      "58\n",
      "44\n",
      "7\n",
      "61\n",
      "28\n",
      "63\n",
      "69\n",
      "62\n",
      "82\n",
      "47\n",
      "62\n",
      "96\n",
      "38\n",
      "61\n",
      "18\n",
      "19\n",
      "12\n",
      "83\n",
      "2\n",
      "71\n",
      "11\n",
      "71\n",
      "23\n",
      "43\n",
      "36\n",
      "15\n",
      "89\n",
      "94\n",
      "47\n",
      "34\n",
      "46\n",
      "20\n",
      "94\n",
      "39\n",
      "97\n",
      "22\n",
      "30\n",
      "70\n",
      "91\n",
      "84\n",
      "54\n",
      "1\n",
      "35\n",
      "31\n",
      "71\n",
      "85\n",
      "59\n",
      "34\n",
      "16\n",
      "29\n",
      "9\n",
      "30\n",
      "64\n",
      "2\n"
     ]
    },
    {
     "ename": "StopIteration",
     "evalue": "",
     "output_type": "error",
     "traceback": [
      "\u001b[1;31m---------------------------------------------------------------------------\u001b[0m",
      "\u001b[1;31mStopIteration\u001b[0m                             Traceback (most recent call last)",
      "\u001b[1;32m<ipython-input-31-3216fc3a2da8>\u001b[0m in \u001b[0;36m<module>\u001b[1;34m\u001b[0m\n\u001b[0;32m     19\u001b[0m \u001b[1;33m\u001b[0m\u001b[0m\n\u001b[0;32m     20\u001b[0m \u001b[1;32mwhile\u001b[0m \u001b[1;32mTrue\u001b[0m\u001b[1;33m:\u001b[0m\u001b[1;33m\u001b[0m\u001b[1;33m\u001b[0m\u001b[0m\n\u001b[1;32m---> 21\u001b[1;33m     \u001b[0mprint\u001b[0m\u001b[1;33m(\u001b[0m\u001b[0mnext\u001b[0m\u001b[1;33m(\u001b[0m\u001b[0ma\u001b[0m\u001b[1;33m)\u001b[0m\u001b[1;33m)\u001b[0m\u001b[1;33m\u001b[0m\u001b[1;33m\u001b[0m\u001b[0m\n\u001b[0m",
      "\u001b[1;31mStopIteration\u001b[0m: "
     ]
    }
   ],
   "source": [
    "\"\"\"iter\"\"\"\n",
    "import random\n",
    "\n",
    "a=iter([1,2,3,4])\n",
    "print(next(a))\n",
    "\n",
    "print(next(a))\n",
    "\n",
    "print(next(a))\n",
    "\n",
    "print(next(a))\n",
    "\n",
    "print('Print iteration using function')\n",
    "\n",
    "def xi():\n",
    "    return random.randrange(1,100)\n",
    "\n",
    "a=iter(xi,5) #it will iterate until it gets 5\n",
    "\n",
    "while True:\n",
    "    print(next(a))\n"
   ]
  },
  {
   "cell_type": "code",
   "execution_count": 32,
   "metadata": {},
   "outputs": [
    {
     "name": "stdout",
     "output_type": "stream",
     "text": [
      "6\n"
     ]
    }
   ],
   "source": [
    "\"\"\"len() function\"\"\"\n",
    "a='vishal'\n",
    "print(len(a))"
   ]
  },
  {
   "cell_type": "code",
   "execution_count": 33,
   "metadata": {},
   "outputs": [
    {
     "name": "stdout",
     "output_type": "stream",
     "text": [
      "1\n",
      "2\n",
      "3\n",
      "4\n",
      "[1, 4, 9, 16]\n",
      "addition\n",
      "[2, 4, 6, 8]\n"
     ]
    }
   ],
   "source": [
    "\"\"\"map function\"\"\"\n",
    "\n",
    "def square(x):\n",
    "    print(x)\n",
    "    return x*x\n",
    "\n",
    "\n",
    "result=map(square,[1,2,3,4])\n",
    "print(list(result))\n",
    "\n",
    "def addition(x,y):\n",
    "    return x+y\n",
    "\n",
    "\n",
    "result=map(addition,[1,2,3,4],[1,2,3,4])\n",
    "print(\"addition\")\n",
    "print(list(result))\n"
   ]
  },
  {
   "cell_type": "code",
   "execution_count": 34,
   "metadata": {},
   "outputs": [
    {
     "name": "stdout",
     "output_type": "stream",
     "text": [
      "2\n",
      "1\n"
     ]
    }
   ],
   "source": [
    "a=[1,2]\n",
    "print(max(a))\n",
    "print(min(a))"
   ]
  },
  {
   "cell_type": "code",
   "execution_count": 35,
   "metadata": {},
   "outputs": [
    {
     "data": {
      "text/plain": [
       "25"
      ]
     },
     "execution_count": 35,
     "metadata": {},
     "output_type": "execute_result"
    }
   ],
   "source": [
    "5**2\n",
    "pow(5,2)"
   ]
  },
  {
   "cell_type": "code",
   "execution_count": 36,
   "metadata": {},
   "outputs": [
    {
     "data": {
      "text/plain": [
       "1.9838"
      ]
     },
     "execution_count": 36,
     "metadata": {},
     "output_type": "execute_result"
    }
   ],
   "source": [
    "x=1.9838383\n",
    "round(x,4)"
   ]
  },
  {
   "cell_type": "code",
   "execution_count": 37,
   "metadata": {},
   "outputs": [
    {
     "name": "stdout",
     "output_type": "stream",
     "text": [
      "Setting value...\n",
      "Getting value...\n",
      "37\n",
      "Getting value...\n",
      "98.60000000000001\n",
      "Setting value...\n"
     ]
    }
   ],
   "source": [
    "\"\"\"\n",
    "Code taken from programiz.com \n",
    "below code demonstrates how to get and set the values by using decorator \n",
    "\n",
    "\"\"\"\n",
    "\n",
    "class Celsius:\n",
    "    def __init__(self, temperature=0):\n",
    "        self.temperature = temperature\n",
    "\n",
    "    def to_fahrenheit(self):\n",
    "        return (self.temperature * 1.8) + 32\n",
    "\n",
    "    @property\n",
    "    def temperature(self):\n",
    "        print(\"Getting value...\")\n",
    "        return self._temperature\n",
    "\n",
    "    @temperature.setter\n",
    "    def temperature(self, value):\n",
    "        print(\"Setting value...\")\n",
    "        if value < -273.15:\n",
    "            raise ValueError(\"Temperature below -273 is not possible\")\n",
    "        self._temperature = value\n",
    "\n",
    "\n",
    "# create an object\n",
    "human = Celsius(37)\n",
    "\n",
    "print(human.temperature)\n",
    "\n",
    "print(human.to_fahrenheit())\n",
    "\n",
    "coldest_thing = Celsius(300)"
   ]
  },
  {
   "cell_type": "code",
   "execution_count": 38,
   "metadata": {},
   "outputs": [
    {
     "data": {
      "text/plain": [
       "'datetime.datetime(2020, 7, 3, 21, 20, 14, 984097)'"
      ]
     },
     "execution_count": 38,
     "metadata": {},
     "output_type": "execute_result"
    }
   ],
   "source": [
    "import datetime\n",
    "today=datetime.datetime.today()\n",
    "str(today)\n",
    "repr(today)\n",
    "#shows the original representation"
   ]
  },
  {
   "cell_type": "code",
   "execution_count": 39,
   "metadata": {},
   "outputs": [
    {
     "data": {
      "text/plain": [
       "[4, 3, 2, 1]"
      ]
     },
     "execution_count": 39,
     "metadata": {},
     "output_type": "execute_result"
    }
   ],
   "source": [
    "a=[1,2,3,4]\n",
    "list(reversed(a))"
   ]
  }
 ],
 "metadata": {
  "kernelspec": {
   "display_name": "Python 3",
   "language": "python",
   "name": "python3"
  },
  "language_info": {
   "codemirror_mode": {
    "name": "ipython",
    "version": 3
   },
   "file_extension": ".py",
   "mimetype": "text/x-python",
   "name": "python",
   "nbconvert_exporter": "python",
   "pygments_lexer": "ipython3",
   "version": "3.7.3"
  }
 },
 "nbformat": 4,
 "nbformat_minor": 2
}
